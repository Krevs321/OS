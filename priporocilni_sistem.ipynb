{
 "cells": [
  {
   "cell_type": "code",
   "execution_count": 2,
   "metadata": {},
   "outputs": [],
   "source": [
    "import numpy as np\n",
    "import pandas as pd\n",
    "from datetime import datetime"
   ]
  },
  {
   "cell_type": "code",
   "execution_count": 3,
   "metadata": {},
   "outputs": [
    {
     "name": "stdout",
     "output_type": "stream",
     "text": [
      "855598\n",
      "73584\n"
     ]
    }
   ],
   "source": [
    "class UserItemData:\n",
    "    def __init__(self, path, start_date=None, end_date=None, min_ratings=0):\n",
    "        self.path = path\n",
    "        self.start_date = start_date\n",
    "        self.end_date = end_date\n",
    "        self.min_ratings = min_ratings\n",
    "        self.data = pd.read_csv(path, encoding=\"windows-1250\", on_bad_lines='skip', sep='\\t', skiprows = 0)\n",
    "        \n",
    "        if self.start_date is not None and self.end_date is not None:\n",
    "            self.data = self.uredi_ratings()\n",
    "\n",
    "    def nratings(self):\n",
    "        return len(self.data)\n",
    "\n",
    "    # ----------------------------------------------------------------\n",
    "    # Metoda ki ti uredi pdoatke. Pretvori iskane datume v datetime, z for loopom naredimo stolpec z datumi, \n",
    "    # potem primerjam datume in odstranim neželjene in nato še pogledam kateri imajo min_rating >= 100\n",
    "    def uredi_ratings(self):\n",
    "        dates = []\n",
    "        start_d = \"\"\n",
    "        end_d = \"\"\n",
    "        if self.start_date is not None and self.end_date is not None:\n",
    "            start_d = datetime.strptime(self.start_date, '%d.%m.%Y')\n",
    "            end_d = datetime.strptime(self.end_date, '%d.%m.%Y')\n",
    "\n",
    "        for ind in self.data.index:\n",
    "            day = str(int(self.data['date_day'][ind]))\n",
    "            month = str(int(self.data['date_month'][ind]))\n",
    "            year = str(int(self.data['date_year'][ind]))\n",
    "\n",
    "            d = day + \".\" + month + \".\" + year\n",
    "            date = datetime.strptime(d, '%d.%m.%Y') \n",
    "            dates.append(date)\n",
    "\n",
    "        self.data['date'] = dates\n",
    "\n",
    "        self.data = self.data[(self.data['date'] >= start_d) & (self.data['date'] < end_d)]\n",
    "        self.data['Allratings'] = self.data.groupby('movieID')['movieID'].transform('size')\n",
    "        \n",
    "        if self.min_ratings is not None:\n",
    "            self.data = self.data.loc[self.data['Allratings'] >= self.min_ratings]\n",
    "        \n",
    "        return self.data\n",
    "\n",
    "\n",
    "uim = UserItemData('data/user_ratedmovies.dat')\n",
    "print(uim.nratings())\n",
    "\n",
    "uim = UserItemData('data/user_ratedmovies.dat', start_date = '12.1.2007', end_date='16.2.2008', min_ratings=100)\n",
    "print(uim.nratings())"
   ]
  },
  {
   "cell_type": "code",
   "execution_count": 4,
   "metadata": {},
   "outputs": [
    {
     "name": "stdout",
     "output_type": "stream",
     "text": [
      "Toy story\n"
     ]
    }
   ],
   "source": [
    "class MovieData:\n",
    "    def __init__(self, path):\n",
    "        self.path = path\n",
    "        self.movies = pd.read_csv(path, encoding=\"windows-1250\", on_bad_lines='skip', sep='\\t', skiprows = 0)\n",
    "\n",
    "    def get_title(self, movieID):\n",
    "        return self.movies.loc[self.movies[\"id\"] == movieID][\"title\"].values[0]\n",
    "\n",
    "md = MovieData('data/movies.dat')\n",
    "print(md.get_title(1))"
   ]
  },
  {
   "cell_type": "code",
   "execution_count": 10,
   "metadata": {},
   "outputs": [
    {
     "name": "stdout",
     "output_type": "stream",
     "text": [
      "<class 'dict'>\n",
      "Film: Toy story, ocena: 4\n",
      "Film: Grumpy Old Men, ocena: 3\n",
      "Film: Money Train, ocena: 4\n",
      "Film: The Usual Suspects, ocena: 3\n",
      "Film: City Hall, ocena: 4\n"
     ]
    }
   ],
   "source": [
    "class RandomPredictor:\n",
    "    def __init__(self, min, max):\n",
    "        self.min = min\n",
    "        self.max = max\n",
    "        self.uim = None\n",
    "    \n",
    "    def fit(self, X):\n",
    "        self.uim = X\n",
    "\n",
    "    def predict(self, user_id, rec_seen=True):\n",
    "        if self.uim is not None:\n",
    "            if ~rec_seen:\n",
    "                df = self.uim.data.loc[self.uim.data[\"userID\"] == user_id]\n",
    "                \n",
    "            movies = np.array(self.uim.data[\"movieID\"])\n",
    "            numbers = np.random.randint(self.min, self.max+1, len(movies))\n",
    "            slovar = {i:j for i,j in zip(movies, numbers)}\n",
    "\n",
    "            return slovar\n",
    "        else:\n",
    "            print(\"none\")\n",
    "\n",
    "md = MovieData('data/movies.dat')\n",
    "uim = UserItemData('data/user_ratedmovies.dat')\n",
    "rp = RandomPredictor(1, 5)\n",
    "rp.fit(uim)\n",
    "pred = rp.predict(78)\n",
    "print(type(pred))\n",
    "items = [1, 3, 20, 50, 100]\n",
    "for item in items:\n",
    "    print(\"Film: {}, ocena: {}\".format(md.get_title(item), pred[item]))"
   ]
  },
  {
   "cell_type": "code",
   "execution_count": 41,
   "metadata": {},
   "outputs": [
    {
     "name": "stdout",
     "output_type": "stream",
     "text": [
      "Film: Twelve Monkeys, ocena: 5\n",
      "Film: Pulp Fiction, ocena: 5\n",
      "Film: Terminator 2: Judgment Day, ocena: 5\n",
      "Film: The Fifth Element, ocena: 5\n",
      "Film: The General's Daughter, ocena: 5\n"
     ]
    },
    {
     "data": {
      "text/plain": [
       "{32: 5, 296: 5, 589: 5, 1527: 5, 2688: 5}"
      ]
     },
     "execution_count": 41,
     "metadata": {},
     "output_type": "execute_result"
    }
   ],
   "source": [
    "class Recommender:\n",
    "    def __init__(self, predictor):\n",
    "        self.predictor = predictor\n",
    "        self.uim = None\n",
    "\n",
    "    def fit(self, X):\n",
    "        self.uim = X\n",
    "        self.predictor.fit(X)\n",
    "\n",
    "    def recommend(self, userID, n = 10, rec_seen = True):\n",
    "        slovar = dict()\n",
    "        return dict(sorted(self.predictor.predict(userID, rec_seen).items(), key=lambda item: (item[1]), reverse=True)[:n])\n",
    "\n",
    "\n",
    "md = MovieData('data/movies.dat')\n",
    "uim = UserItemData('data/user_ratedmovies.dat')\n",
    "rp = RandomPredictor(1, 5)\n",
    "rec = Recommender(rp)\n",
    "rec.fit(uim)\n",
    "rec_items = rec.recommend(78, n=5, rec_seen=False)\n",
    "for idmovie, val in rec_items.items():\n",
    "    print(\"Film: {}, ocena: {}\".format(md.get_title(idmovie), val))  \n",
    "\n",
    "rec_items"
   ]
  },
  {
   "cell_type": "code",
   "execution_count": null,
   "metadata": {},
   "outputs": [],
   "source": []
  }
 ],
 "metadata": {
  "kernelspec": {
   "display_name": "Python 3",
   "language": "python",
   "name": "python3"
  },
  "language_info": {
   "codemirror_mode": {
    "name": "ipython",
    "version": 3
   },
   "file_extension": ".py",
   "mimetype": "text/x-python",
   "name": "python",
   "nbconvert_exporter": "python",
   "pygments_lexer": "ipython3",
   "version": "3.11.0"
  },
  "orig_nbformat": 4,
  "vscode": {
   "interpreter": {
    "hash": "28bb54fccb5c54b9eedc5af22a7a634d0c6fe20678618892aea914a85c0bb8f1"
   }
  }
 },
 "nbformat": 4,
 "nbformat_minor": 2
}
