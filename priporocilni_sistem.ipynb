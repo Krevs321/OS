{
 "cells": [
  {
   "cell_type": "code",
   "execution_count": 14,
   "metadata": {},
   "outputs": [],
   "source": [
    "import pandas as pd"
   ]
  },
  {
   "cell_type": "code",
   "execution_count": 18,
   "metadata": {},
   "outputs": [
    {
     "name": "stdout",
     "output_type": "stream",
     "text": [
      "       userID\\tmovieID\\trating\\tdate_day\\tdate_month  date_year  date_hour  \\\n",
      "0                 75\\t3\\t1\\t29\\t10\\t2006\\t23\\t17\\t16        NaN        NaN   \n",
      "1              75\\t32\\t4.5\\t29\\t10\\t2006\\t23\\t23\\t44        NaN        NaN   \n",
      "2                75\\t110\\t4\\t29\\t10\\t2006\\t23\\t30\\t8        NaN        NaN   \n",
      "3               75\\t160\\t2\\t29\\t10\\t2006\\t23\\t16\\t52        NaN        NaN   \n",
      "4               75\\t163\\t4\\t29\\t10\\t2006\\t23\\t29\\t30        NaN        NaN   \n",
      "...                                              ...        ...        ...   \n",
      "855593        71534\\t44555\\t4\\t3\\t12\\t2007\\t3\\t5\\t38        NaN        NaN   \n",
      "855594       71534\\t46578\\t4\\t3\\t12\\t2007\\t2\\t56\\t44        NaN        NaN   \n",
      "855595     71534\\t48516\\t4.5\\t3\\t12\\t2007\\t2\\t53\\t46        NaN        NaN   \n",
      "855596       71534\\t61075\\t5\\t10\\t10\\t2008\\t9\\t56\\t5        NaN        NaN   \n",
      "855597    71534\\t62049\\t4.5\\t10\\t10\\t2008\\t9\\t58\\t10        NaN        NaN   \n",
      "\n",
      "        date_minute  date_second  \n",
      "0               NaN          NaN  \n",
      "1               NaN          NaN  \n",
      "2               NaN          NaN  \n",
      "3               NaN          NaN  \n",
      "4               NaN          NaN  \n",
      "...             ...          ...  \n",
      "855593          NaN          NaN  \n",
      "855594          NaN          NaN  \n",
      "855595          NaN          NaN  \n",
      "855596          NaN          NaN  \n",
      "855597          NaN          NaN  \n",
      "\n",
      "[855598 rows x 5 columns]\n"
     ]
    }
   ],
   "source": [
    "class UserItemData:\n",
    "    def __init__(self, path) -> None:\n",
    "        self.path = path\n",
    "        #self.from_date = from_date\n",
    "        #self.to_date = to_date\n",
    "        #self.min_ratings = min_ratings\n",
    "\n",
    "    def read(self):\n",
    "        df = pd.read_fwf(self.path)\n",
    "        return df\n",
    "\n",
    "uim = UserItemData('data/user_ratedmovies.dat')\n",
    "print(uim.read())"
   ]
  }
 ],
 "metadata": {
  "kernelspec": {
   "display_name": "venvOS",
   "language": "python",
   "name": "python3"
  },
  "language_info": {
   "codemirror_mode": {
    "name": "ipython",
    "version": 3
   },
   "file_extension": ".py",
   "mimetype": "text/x-python",
   "name": "python",
   "nbconvert_exporter": "python",
   "pygments_lexer": "ipython3",
   "version": "3.10.0"
  },
  "orig_nbformat": 4,
  "vscode": {
   "interpreter": {
    "hash": "6e2e1c6d69d3278fafa7ddc3a26b1541a9cf9c8c5bf8cfa65eac38e51405c46c"
   }
  }
 },
 "nbformat": 4,
 "nbformat_minor": 2
}
