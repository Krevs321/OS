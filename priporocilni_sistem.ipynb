{
 "cells": [
  {
   "cell_type": "code",
   "execution_count": 135,
   "metadata": {},
   "outputs": [],
   "source": [
    "import numpy as np\n",
    "import pandas as pd\n",
    "from datetime import datetime\n",
    "import math as m"
   ]
  },
  {
   "cell_type": "code",
   "execution_count": 136,
   "metadata": {},
   "outputs": [
    {
     "name": "stdout",
     "output_type": "stream",
     "text": [
      "855598\n",
      "73584\n"
     ]
    }
   ],
   "source": [
    "class UserItemData:\n",
    "    def __init__(self, path, start_date=None, end_date=None, min_ratings=0):\n",
    "        self.path = path\n",
    "        self.start_date = start_date\n",
    "        self.end_date = end_date\n",
    "        self.min_ratings = min_ratings\n",
    "        self.data = pd.read_csv(path, encoding=\"windows-1250\", on_bad_lines='skip', sep='\\t', skiprows = 0, parse_dates= {\"date\" : [\"date_year\",\"date_month\",\"date_day\"]},\n",
    "                keep_date_col=True)\n",
    "        \n",
    "        if self.start_date is not None and self.end_date is not None:\n",
    "            self.start_date = datetime.strptime(self.start_date, '%d.%m.%Y')\n",
    "            self.end_date = datetime.strptime(self.end_date, '%d.%m.%Y')\n",
    "\n",
    "            self.data = self.data[(self.data['date'] >= self.start_date) & (self.data['date'] < self.end_date)]\n",
    "\n",
    "        self.data['Allratings'] = self.data.groupby('movieID')['movieID'].transform('size')\n",
    "        if self.min_ratings > 0:\n",
    "            self.data = self.data.loc[self.data['Allratings'] >= self.min_ratings]\n",
    "\n",
    "\n",
    "    def nratings(self):\n",
    "        return len(self.data)\n",
    "\n",
    "uim = UserItemData('data/user_ratedmovies.dat')\n",
    "print(uim.nratings())\n",
    "\n",
    "uim = UserItemData('data/user_ratedmovies.dat', start_date = '12.1.2007', end_date='16.2.2008', min_ratings=100)\n",
    "print(uim.nratings())"
   ]
  },
  {
   "cell_type": "code",
   "execution_count": 137,
   "metadata": {},
   "outputs": [
    {
     "name": "stdout",
     "output_type": "stream",
     "text": [
      "Toy story\n"
     ]
    }
   ],
   "source": [
    "class MovieData:\n",
    "    def __init__(self, path):\n",
    "        self.path = path\n",
    "        self.movies = pd.read_csv(path, encoding=\"windows-1250\", on_bad_lines='skip', sep='\\t', skiprows = 0)\n",
    "\n",
    "    def get_title(self, movieID):\n",
    "        return self.movies.loc[self.movies[\"id\"] == movieID][\"title\"].values[0]\n",
    "\n",
    "md = MovieData('data/movies.dat')\n",
    "print(md.get_title(1))"
   ]
  },
  {
   "cell_type": "code",
   "execution_count": 138,
   "metadata": {},
   "outputs": [
    {
     "name": "stdout",
     "output_type": "stream",
     "text": [
      "<class 'dict'>\n",
      "Film: Toy story, ocena: 4\n",
      "Film: Grumpy Old Men, ocena: 1\n",
      "Film: Money Train, ocena: 2\n",
      "Film: The Usual Suspects, ocena: 2\n",
      "Film: City Hall, ocena: 5\n"
     ]
    }
   ],
   "source": [
    "class RandomPredictor:\n",
    "    def __init__(self, min, max):\n",
    "        self.min = min\n",
    "        self.max = max\n",
    "        self.uim = None\n",
    "    \n",
    "    def fit(self, X):\n",
    "        self.uim = X\n",
    "\n",
    "    def predict(self, userID, rec_seen=True):\n",
    "        if self.uim is not None:\n",
    "            if not rec_seen:\n",
    "                df = self.uim.data.loc[self.uim.data[\"userID\"] == userID]['movieID']\n",
    "                movieID = pd.Series(list(df))\n",
    "                movieID.name = \"moviesID\"\n",
    "                #self.uim.data = self.uim.data[~self.uim.data.index.isin(movieID)]\n",
    "                self.uim.data = self.uim.data[~self.uim.data['movieID'].isin(movieID)]\n",
    "                    \n",
    "            movies = np.array(self.uim.data[\"movieID\"])\n",
    "            numbers = np.random.randint(self.min, self.max+1, len(movies))\n",
    "            res = {}\n",
    "            for i in range(len(movies)):\n",
    "                res[movies[i]] = numbers[i] \n",
    "\n",
    "            return res\n",
    "        else:\n",
    "            print(\"none\")\n",
    "\n",
    "md = MovieData('data/movies.dat')\n",
    "uim = UserItemData('data/user_ratedmovies.dat')\n",
    "rp = RandomPredictor(1, 5)\n",
    "rp.fit(uim)\n",
    "pred = rp.predict(78)\n",
    "print(type(pred))\n",
    "items = [1, 3, 20, 50, 100]\n",
    "for item in items:\n",
    "    print(\"Film: {}, ocena: {}\".format(md.get_title(item), pred[item]))"
   ]
  },
  {
   "cell_type": "code",
   "execution_count": 139,
   "metadata": {},
   "outputs": [
    {
     "name": "stdout",
     "output_type": "stream",
     "text": [
      "Film: Beverly Hills Cop III, ocena: 5\n",
      "Film: Die Hard, ocena: 5\n",
      "Film: Armageddon, ocena: 5\n",
      "Film: South Park: Bigger Longer & Uncut, ocena: 5\n",
      "Film: Unbreakable, ocena: 5\n"
     ]
    }
   ],
   "source": [
    "class Recommender:\n",
    "    def __init__(self, predictor):\n",
    "        self.predictor = predictor\n",
    "        self.uim = None\n",
    "\n",
    "    def fit(self, X):\n",
    "        self.uim = X\n",
    "        self.predictor.fit(X)\n",
    "\n",
    "    def recommend(self, userID, n = 10, rec_seen = True):\n",
    "        return dict(sorted(self.predictor.predict(userID, rec_seen).items(), key=lambda item: item[1], reverse=True)[:n])\n",
    "\n",
    "\n",
    "md = MovieData('data/movies.dat')\n",
    "uim = UserItemData('data/user_ratedmovies.dat')\n",
    "rp = RandomPredictor(1, 5)\n",
    "rec = Recommender(rp)\n",
    "rec.fit(uim)\n",
    "rec_items = rec.recommend(78, n=5, rec_seen=False)\n",
    "for idmovie, val in rec_items.items():\n",
    "    print(\"Film: {}, ocena: {}\".format(md.get_title(idmovie), val))  "
   ]
  },
  {
   "cell_type": "code",
   "execution_count": 140,
   "metadata": {},
   "outputs": [
    {
     "name": "stdout",
     "output_type": "stream",
     "text": [
      "Film: The Usual Suspects, ocena: 4.225944245560473\n",
      "Film: The Godfather: Part II, ocena: 4.146907937910189\n",
      "Film: Cidade de Deus, ocena: 4.116538340205236\n",
      "Film: The Dark Knight, ocena: 4.10413904093503\n",
      "Film: 12 Angry Men, ocena: 4.103639627096175\n"
     ]
    }
   ],
   "source": [
    "class AveragePredictor:\n",
    "    def __init__(self, b):\n",
    "        if b >= 0:\n",
    "            self.b = b\n",
    "        else:\n",
    "            self.b = 0\n",
    "\n",
    "    def fit(self, X):\n",
    "        self.uim = X\n",
    "        self.uim.data['n'] = self.uim.data.groupby('movieID')['movieID'].transform('size')\n",
    "        self.uim.data['vs'] = self.uim.data.groupby('movieID')['rating'].transform('sum')\n",
    "        self.g_avg = self.uim.data['rating'].mean()\n",
    "        # avg = (vs + b * g_avg) / (n + b\n",
    "        self.uim.data['avg'] = (self.uim.data['vs'] + (self.b * self.g_avg)) / (self.uim.data['n'] + self.b)\n",
    "\n",
    "    def predict(self, userID, rec_seen=True):\n",
    "        if not rec_seen:\n",
    "            df = self.uim.data.loc[self.uim.data[\"userID\"] == userID]['movieID']\n",
    "            movieID = pd.Series(list(df))\n",
    "            movieID.name = 'movieIDs'\n",
    "            self.uim.data = self.uim.data[~self.uim.data['movieID'].isin(movieID)]\n",
    "            \n",
    "        movies = list(self.uim.data[\"movieID\"])\n",
    "        avg = list(self.uim.data[\"avg\"])\n",
    "\n",
    "        res = {}\n",
    "        for i in range(len(movies)):\n",
    "            res[movies[i]] = avg[i] \n",
    "\n",
    "        return res\n",
    "\n",
    "\n",
    "md = MovieData('data/movies.dat')\n",
    "uim = UserItemData('data/user_ratedmovies.dat')\n",
    "rp = AveragePredictor(100)\n",
    "rec = Recommender(rp)\n",
    "rec.fit(uim)\n",
    "rec_items = rec.recommend(78, n=5, rec_seen=False)\n",
    "for idmovie, val in rec_items.items():\n",
    "    print(\"Film: {}, ocena: {}\".format(md.get_title(idmovie), val))  "
   ]
  },
  {
   "cell_type": "code",
   "execution_count": 141,
   "metadata": {},
   "outputs": [
    {
     "name": "stdout",
     "output_type": "stream",
     "text": [
      "Film: The Lord of the Rings: The Fellowship of the Ring, ocena: 1576\n",
      "Film: The Lord of the Rings: The Two Towers, ocena: 1528\n",
      "Film: The Lord of the Rings: The Return of the King, ocena: 1457\n",
      "Film: The Silence of the Lambs, ocena: 1431\n",
      "Film: Shrek, ocena: 1404\n"
     ]
    }
   ],
   "source": [
    "class ViewsPredictor:\n",
    "    def __init__(self):\n",
    "        pass\n",
    "\n",
    "    def fit(self, X):\n",
    "        self.uim = X\n",
    "\n",
    "    def predict(self, userID, rec_seen=True):\n",
    "        if not rec_seen:\n",
    "            df = self.uim.data.loc[self.uim.data[\"userID\"] == userID][\"movieID\"]\n",
    "            movies = pd.Series(list(df))\n",
    "            movies.name = \"moviesID\"\n",
    "            #self.uim.data = self.uim.data[~self.uim.data.index.isin(movies)]\n",
    "            self.uim.data = self.uim.data.loc[~self.uim.data['movieID'].isin(movies)]\n",
    "\n",
    "        return dict(self.uim.data.groupby(\"movieID\").count()['userID'])\n",
    "\n",
    "md = MovieData('data/movies.dat')\n",
    "uim = UserItemData('data/user_ratedmovies.dat')\n",
    "rp = ViewsPredictor()\n",
    "rec = Recommender(rp)\n",
    "rec.fit(uim)\n",
    "rec_items = rec.recommend(78, n=5, rec_seen=False)\n",
    "for idmovie, val in rec_items.items():\n",
    "   print(\"Film: {}, ocena: {}\".format(md.get_title(idmovie), val))  "
   ]
  },
  {
   "cell_type": "code",
   "execution_count": 142,
   "metadata": {},
   "outputs": [
    {
     "name": "stdout",
     "output_type": "stream",
     "text": [
      "Podobnost med filmoma 'Men in black'(1580) in 'Ghostbusters'(2716):  0.23395523176756633\n",
      "Podobnost med filmoma 'Men in black'(1580) in 'Schindler's List'(527):  0\n",
      "Podobnost med filmoma 'Men in black'(1580) in 'Independence day'(780):  0.42466125844687613\n"
     ]
    }
   ],
   "source": [
    "import warnings\n",
    "\n",
    "warnings.filterwarnings('ignore')\n",
    "class ItemBasedPredictor:\n",
    "    def __init__(self, min_values = 0, threshold = 0):\n",
    "        self.min_values = min_values\n",
    "        self.threshold = threshold\n",
    "\n",
    "    def fit(self, X):\n",
    "        self.uim = X\n",
    "\n",
    "    def similarity(self, p1, p2):\n",
    "        movieIDs = list(self.uim.data['movieID'].unique())\n",
    "        self.matrika = pd.DataFrame(0, index=movieIDs, columns=movieIDs)\n",
    "\n",
    "        self.avg = self.uim.data.groupby('userID')['rating'].mean()\n",
    "\n",
    "        u1 = list(self.matrika.index)\n",
    "        u2 = list(self.matrika.columns)\n",
    "    \n",
    "        df1 = self.uim.data.loc[(self.uim.data[\"movieID\"] == p1)]\n",
    "        df2 = self.uim.data.loc[(self.uim.data[\"movieID\"] == p2)]\n",
    "\n",
    "        df = pd.merge(df1, df2, how=\"inner\", on=[\"userID\"])\n",
    "        df = pd.merge(df, self.avg, how=\"inner\", on=[\"userID\"])\n",
    "\n",
    "        # Če imamo minimalno toliko uporabnikov\n",
    "        if len(df) >= self.min_values:\n",
    "            Ru = np.array(df['rating'])\n",
    "            R1 = np.array(df['rating_x'])\n",
    "            R2 = np.array(df['rating_y'])\n",
    "\n",
    "            sub1 = np.subtract(R1, Ru)\n",
    "            sub2 = np.subtract(R2, Ru)\n",
    "            produkt1 = np.multiply(sub1, sub2)\n",
    "            vsota1 = np.sum(produkt1)\n",
    "\n",
    "            sqrt_vsota_square1 = np.sqrt(np.sum(np.square(sub1)))\n",
    "            sqrt_vsota_square2 = np.sqrt(np.sum(np.square(sub2)))\n",
    "            produkt_final = sqrt_vsota_square1 * sqrt_vsota_square2\n",
    "\n",
    "            result = vsota1 / produkt_final\n",
    "\n",
    "            if result < 0 or result < self.threshold:\n",
    "                result = 0\n",
    "        else:\n",
    "            result = 0\n",
    "        self.matrika.loc[p1, p2] = result\n",
    "\n",
    "        return self.matrika.loc[p1, p2]\n",
    "\n",
    "    def predict(self, userID, rec_seen = True):\n",
    "        # Vsi filmi\n",
    "        moviesID = self.uim.data.drop_duplicates('movieID')['movieID']\n",
    "        # Filmi userja z userID\n",
    "        if not rec_seen:\n",
    "            movies_user = self.uim.data.loc[self.uim.data[\"userID\"] == userID]\n",
    "            \n",
    "        result = {}\n",
    "        for id in moviesID:\n",
    "            #similarities for each movie\n",
    "            zgoraj = 0\n",
    "            spodaj = 0\n",
    "            for ind, row in movies_user.iterrows():\n",
    "                u_rating = row['rating']\n",
    "                movie2 = row['movieID']\n",
    "\n",
    "                zgoraj += self.similarity(id, movie2) * u_rating\n",
    "                spodaj += self.similarity(id, movie2)\n",
    "\n",
    "            # Na mestu filma shranimo količnik\n",
    "            result[id] = zgoraj / spodaj\n",
    "        return result\n",
    "\n",
    "    \n",
    "    def vrni_matriko(self):\n",
    "        movieIDs = list(self.uim.data['movieID'].unique())\n",
    "        self.matrika = pd.DataFrame(0, index=movieIDs, columns=movieIDs)\n",
    "\n",
    "        self.avg = self.uim.data.groupby('userID')['rating'].mean()\n",
    "\n",
    "        u1 = list(self.matrika.index)\n",
    "        u2 = list(self.matrika.columns)\n",
    "    \n",
    "        for i in u1:\n",
    "            for j in u2:\n",
    "\n",
    "                df1 = self.uim.data.loc[(self.uim.data[\"movieID\"] == i)]\n",
    "                df2 = self.uim.data.loc[(self.uim.data[\"movieID\"] == j)]\n",
    "\n",
    "                df = pd.merge(df1, df2, how=\"inner\", on=[\"userID\"])\n",
    "                df = pd.merge(df, self.avg, how=\"inner\", on=[\"userID\"])\n",
    "\n",
    "                # Če imamo minimalno toliko uporabnikov\n",
    "                if len(df) >= self.min_values:\n",
    "                    Ru = np.array(df['rating'])\n",
    "                    R1 = np.array(df['rating_x'])\n",
    "                    R2 = np.array(df['rating_y'])\n",
    "\n",
    "                    sub1 = np.subtract(R1, Ru)\n",
    "                    sub2 = np.subtract(R2, Ru)\n",
    "                    produkt1 = np.multiply(sub1, sub2)\n",
    "                    vsota1 = np.sum(produkt1)\n",
    "\n",
    "                    sqrt_vsota_square1 = np.sqrt(np.sum(np.square(sub1)))\n",
    "                    sqrt_vsota_square2 = np.sqrt(np.sum(np.square(sub2)))\n",
    "                    produkt_final = sqrt_vsota_square1 * sqrt_vsota_square2\n",
    "\n",
    "                    result = vsota1 / produkt_final\n",
    "\n",
    "                    if result < 0 or result < self.threshold:\n",
    "                        result = 0\n",
    "                else:\n",
    "                    result = 0\n",
    "                    \n",
    "                self.matrika.loc[i, j] = result\n",
    "\n",
    "        return self.matrika\n",
    "\n",
    "md = MovieData('data/movies.dat')\n",
    "uim = UserItemData('data/user_ratedmovies.dat', min_ratings=1000)\n",
    "rp = ItemBasedPredictor()\n",
    "rec = Recommender(rp)\n",
    "rec.fit(uim)\n",
    "print(\"Podobnost med filmoma 'Men in black'(1580) in 'Ghostbusters'(2716): \", rp.similarity(1580, 2716))\n",
    "print(\"Podobnost med filmoma 'Men in black'(1580) in 'Schindler's List'(527): \", rp.similarity(1580, 527))\n",
    "print(\"Podobnost med filmoma 'Men in black'(1580) in 'Independence day'(780): \", rp.similarity(1580, 780))"
   ]
  },
  {
   "cell_type": "code",
   "execution_count": 143,
   "metadata": {},
   "outputs": [
    {
     "name": "stdout",
     "output_type": "stream",
     "text": [
      "Predictions for 78: \n",
      "Film: Twelve Monkeys, ocena: 4.4678775914494135\n",
      "Film: Lost in Translation, ocena: 4.44968981828876\n",
      "Film: Alien, ocena: 4.44792924555423\n",
      "Film: Groundhog Day, ocena: 4.434545789386526\n",
      "Film: Memento, ocena: 4.434159144102171\n",
      "Film: Eternal Sunshine of the Spotless Mind, ocena: 4.426170462610086\n",
      "Film: Being John Malkovich, ocena: 4.424690175230734\n",
      "Film: Fargo, ocena: 4.403136853866336\n",
      "Film: American Beauty, ocena: 4.40090030407282\n",
      "Film: Le fabuleux destin d'Amélie Poulain, ocena: 4.397086146284772\n",
      "Film: Blade Runner, ocena: 4.391002451402141\n",
      "Film: Monty Python and the Holy Grail, ocena: 4.3799898927755905\n",
      "Film: Shichinin no samurai, ocena: 4.355734790310159\n",
      "Film: The Usual Suspects, ocena: 4.354681728067836\n",
      "Film: Reservoir Dogs, ocena: 4.352819064017404\n"
     ]
    }
   ],
   "source": [
    "print(\"Predictions for 78: \")\n",
    "rec_items = rec.recommend(78, n=15, rec_seen=False)\n",
    "for idmovie, val in rec_items.items():\n",
    "    print(\"Film: {}, ocena: {}\".format(md.get_title(idmovie), val))"
   ]
  },
  {
   "cell_type": "code",
   "execution_count": 144,
   "metadata": {},
   "outputs": [
    {
     "name": "stdout",
     "output_type": "stream",
     "text": [
      "Film1: The Lord of the Rings: The Two Towers, Film2: The Lord of the Rings: The Return of the King, podobnost: 0.8439842148481417\n",
      "Film1: The Lord of the Rings: The Return of the King, Film2: The Lord of the Rings: The Two Towers, podobnost: 0.8439842148481417\n",
      "Film1: The Lord of the Rings: The Fellowship of the Ring, Film2: The Lord of the Rings: The Two Towers, podobnost: 0.8231885401761888\n",
      "Film1: The Lord of the Rings: The Two Towers, Film2: The Lord of the Rings: The Fellowship of the Ring, podobnost: 0.8231885401761888\n",
      "Film1: The Lord of the Rings: The Fellowship of the Ring, Film2: The Lord of the Rings: The Return of the King, podobnost: 0.8079374897442496\n",
      "Film1: The Lord of the Rings: The Return of the King, Film2: The Lord of the Rings: The Fellowship of the Ring, podobnost: 0.8079374897442496\n",
      "Film1: Kill Bill: Vol. 2, Film2: Kill Bill: Vol. 2, podobnost: 0.7372340224381029\n",
      "Film1: Kill Bill: Vol. 2, Film2: Kill Bill: Vol. 2, podobnost: 0.7372340224381029\n",
      "Film1: Star Wars, Film2: Star Wars: Episode V - The Empire Strikes Back, podobnost: 0.7021321132220318\n",
      "Film1: Star Wars: Episode V - The Empire Strikes Back, Film2: Star Wars, podobnost: 0.7021321132220318\n",
      "Film1: Ace Ventura: Pet Detective, Film2: The Mask, podobnost: 0.6616471778494046\n",
      "Film1: The Mask, Film2: Ace Ventura: Pet Detective, podobnost: 0.6616471778494046\n",
      "Film1: Star Wars: Episode V - The Empire Strikes Back, Film2: Star Wars: Episode VI - Return of the Jedi, podobnost: 0.5992253753778948\n",
      "Film1: Star Wars: Episode VI - Return of the Jedi, Film2: Star Wars: Episode V - The Empire Strikes Back, podobnost: 0.5992253753778948\n",
      "Film1: Independence Day, Film2: Star Wars: Episode I - The Phantom Menace, podobnost: 0.5610426219249997\n",
      "Film1: Star Wars: Episode I - The Phantom Menace, Film2: Independence Day, podobnost: 0.5610426219249997\n",
      "Film1: Ace Ventura: Pet Detective, Film2: Austin Powers: The Spy Who Shagged Me, podobnost: 0.5546511205201551\n",
      "Film1: Austin Powers: The Spy Who Shagged Me, Film2: Ace Ventura: Pet Detective, podobnost: 0.5546511205201551\n",
      "Film1: Star Wars, Film2: Star Wars: Episode VI - Return of the Jedi, podobnost: 0.5537849318137372\n",
      "Film1: Star Wars: Episode VI - Return of the Jedi, Film2: Star Wars, podobnost: 0.5537849318137372\n"
     ]
    }
   ],
   "source": [
    "df = rp.vrni_matriko()\n",
    "\n",
    "l = []\n",
    "slovar = {}\n",
    "for i in sorted(df.values.flatten(), reverse=True):\n",
    "    if i < 0.99:\n",
    "        l.append(i)    \n",
    "\n",
    "slovar = {}\n",
    "for k in l[:20]:\n",
    "    for i in df.index:\n",
    "        for j in df.columns:\n",
    "            if k == df[i][j]:\n",
    "                terka = (i, j)\n",
    "                slovar[terka] = k\n",
    "\n",
    "\n",
    "for key, val in slovar.items():\n",
    "    md = MovieData('data/movies.dat')\n",
    "    print(\"Film1: {}, Film2: {}, podobnost: {}\".format(md.get_title(key[0]), md.get_title(key[1]), val))"
   ]
  }
 ],
 "metadata": {
  "kernelspec": {
   "display_name": "Python 3",
   "language": "python",
   "name": "python3"
  },
  "language_info": {
   "codemirror_mode": {
    "name": "ipython",
    "version": 3
   },
   "file_extension": ".py",
   "mimetype": "text/x-python",
   "name": "python",
   "nbconvert_exporter": "python",
   "pygments_lexer": "ipython3",
   "version": "3.11.0"
  },
  "orig_nbformat": 4,
  "vscode": {
   "interpreter": {
    "hash": "28bb54fccb5c54b9eedc5af22a7a634d0c6fe20678618892aea914a85c0bb8f1"
   }
  }
 },
 "nbformat": 4,
 "nbformat_minor": 2
}
